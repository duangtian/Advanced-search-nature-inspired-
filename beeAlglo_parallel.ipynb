{
 "cells": [
  {
   "cell_type": "code",
   "execution_count": 1,
   "metadata": {},
   "outputs": [],
   "source": [
    "import numpy as np\n",
    "import math\n",
    "import random \n",
    "import matplotlib.pyplot as plt\n",
    "import random\n",
    "import copy    # array-copying convenience\n",
    "import sys     # max float\n",
    "import pandas as pd\n",
    "from tqdm import tqdm\n",
    "from joblib import Parallel, delayed\n",
    "import multiprocessing"
   ]
  },
  {
   "cell_type": "code",
   "execution_count": 2,
   "metadata": {},
   "outputs": [],
   "source": [
    "def cal_SD(sm):\n",
    "    sd = 0\n",
    "    for i in range(len(sm)):\n",
    "        sd += sm[i]**2\n",
    "    sd /= len(sm)\n",
    "    sd = math.sqrt(sd)\n",
    "    return sd"
   ]
  },
  {
   "cell_type": "code",
   "execution_count": 3,
   "metadata": {},
   "outputs": [],
   "source": [
    "def fit(final_d , sd):\n",
    "    return final_d**sd"
   ]
  },
  {
   "cell_type": "code",
   "execution_count": 4,
   "metadata": {},
   "outputs": [],
   "source": [
    "def new_position(path, position):\n",
    "    new_position = []\n",
    "    for i in range(len(position)):\n",
    "        new_position.append(position[path[i]])\n",
    "    return new_position"
   ]
  },
  {
   "cell_type": "code",
   "execution_count": 5,
   "metadata": {},
   "outputs": [],
   "source": [
    "def print_path(new_position , color = 'g--'):    \n",
    "    t = [new_position[0]]\n",
    "    for i in range(1,len(new_position)):\n",
    "        t = np.append(t, [new_position[i]], axis=0)\n",
    "    plt.plot(t[:,0],t[:,1],'bo')\n",
    "    plt.plot(t[0,0],t[0,1],'ro')\n",
    "    plt.plot(t[:,0],t[:,1], color)"
   ]
  },
  {
   "cell_type": "code",
   "execution_count": 6,
   "metadata": {},
   "outputs": [],
   "source": [
    "def rand_path(path ,nc):\n",
    "    tmp = path[1:len(path)-1]\n",
    "    random.shuffle(tmp)\n",
    "        \n",
    "    for i in range(1, len(path)-1):\n",
    "        path[i] = tmp[i-1]\n",
    "    return path"
   ]
  },
  {
   "cell_type": "code",
   "execution_count": 7,
   "metadata": {},
   "outputs": [],
   "source": [
    "def print_point(path_point):\n",
    "    for i in range(len(path_point)):\n",
    "        print(path_point[i])   "
   ]
  },
  {
   "cell_type": "code",
   "execution_count": 8,
   "metadata": {},
   "outputs": [],
   "source": [
    "def dist(x, y):\n",
    "    d = (x[0] - y[0])**2 + (x[1] - y[1])**2\n",
    "    return math.sqrt(d)"
   ]
  },
  {
   "cell_type": "code",
   "execution_count": 9,
   "metadata": {},
   "outputs": [],
   "source": [
    "def multi_bee(nc, cp, nb, nv, max_epochs,file_num):\n",
    "    m = 0\n",
    "    best_multiBeePath = []\n",
    "    best_total_distance = []\n",
    "    fitness = float('inf')\n",
    "    raw = {'total distance':[],'SD':[],'fitness':[],'best_round':[],'best_fitness':[]}\n",
    "    for m in tqdm(range(max_epochs)):\n",
    "#     for m in range(max_epochs):\n",
    "#     while m < max_epochs:\n",
    "        total_distance = []\n",
    "        multiBee_path = []\n",
    "        final_d = 0\n",
    "        sm_dist = []\n",
    "        final_d = 0\n",
    "        for i in range(nv):\n",
    "            multiBee_path.append([0])\n",
    "        \n",
    "        if m == 0:\n",
    "            tmp =  [j for j in range(1,nc)]\n",
    "            for i in range(nc-1):\n",
    "                index = np.random.randint(len(tmp))\n",
    "                row = np.random.randint(nv)\n",
    "                multiBee_path[row].append(tmp[index])\n",
    "                tmp.remove(tmp[index])\n",
    "        else :\n",
    "            for i in range(len(best_multiBeePath)):\n",
    "                for j in range(1,len(best_multiBeePath[i])):\n",
    "                    if np.random.randint(10) < 7:\n",
    "                        multiBee_path[i].append(best_multiBeePath[i][j])\n",
    "                    else:\n",
    "                        row = np.random.randint(nv)\n",
    "                        multiBee_path[row].append(best_multiBeePath[i][j])\n",
    "        \n",
    "        for i in range(nv):\n",
    "            small_cp = []\n",
    "            for j in range(len(multiBee_path[i])):\n",
    "                    small_cp.append(cp[multiBee_path[i][j]])\n",
    "            small_cp.append(cp[0])\n",
    "            if(len(multiBee_path[i]) > 2):\n",
    "                random.seed(1)\n",
    "                total_distance.append(solve(len(small_cp), small_cp, nb, max_epochs*0.1))\n",
    "            \n",
    "        sumd = 0\n",
    "        for i in range(len(total_distance[0])-1):\n",
    "            sumd += dist(total_distance[0][i],total_distance[0][i+1])\n",
    "        sm_dist.append(sumd)\n",
    "        final_d += sumd\n",
    "        \n",
    "        if(len(total_distance) >= 2):\n",
    "            sumd = 0\n",
    "            for i in range(len(total_distance[1])-1):\n",
    "                sumd += dist(total_distance[1][i],total_distance[1][i+1])\n",
    "            sm_dist.append(sumd)\n",
    "            final_d += sumd\n",
    "            \n",
    "        if(len(total_distance) == 3):\n",
    "            sumd = 0\n",
    "            for i in range(len(total_distance[2])-1):\n",
    "                sumd += dist(total_distance[2][i],total_distance[2][i+1])\n",
    "            sm_dist.append(sumd)\n",
    "            final_d += sumd\n",
    "        \n",
    "        dummy = fit(final_d, cal_SD(sm_dist))\n",
    "        if fitness > dummy:\n",
    "            fitness = dummy\n",
    "            best_multiBeePath = multiBee_path.copy()\n",
    "            best_total_distance = total_distance.copy()\n",
    "            best_round = m\n",
    "#             print(str(m) +\" :fit: \"+str(fitness))\n",
    "#             print(\"D :\"+str(final_d)+\"\\n\")\n",
    "#             print(\"SD :\"+str(cal_SD(sm_dist))+\"\\n\")\n",
    "        \n",
    "#         raw['total distance'].append(final_d)\n",
    "#         raw['SD'].append(cal_SD(sm_dist))\n",
    "#         raw['fitness'].append(dummy)\n",
    "        \n",
    "        \n",
    "#         m+=1\n",
    "#         break\n",
    "   \n",
    "#     df = pd.DataFrame(raw , columns = ['Total distance', 'SD', 'fitness'])\n",
    "#     df.to_csv(\"bee_result_\"+str(file_num)+\".csv\")\n",
    "    \n",
    "    return best_round, fitness, best_total_distance, best_multiBeePath\n",
    "#     return best_round, fitness, best_total_distance, best_multiBeePath ,df\n",
    "        "
   ]
  },
  {
   "cell_type": "code",
   "execution_count": 10,
   "metadata": {},
   "outputs": [],
   "source": [
    "def error(path,cities_position):\n",
    "    d = 0.0  # total distance between cities)\n",
    "    for i in range(len(path)-1):\n",
    "        d += dist(cities_position[path[i]],cities_position[path[i+1]])\n",
    "    return d "
   ]
  },
  {
   "cell_type": "code",
   "execution_count": 11,
   "metadata": {},
   "outputs": [],
   "source": [
    "class Bee:\n",
    "    def __init__(self, nc, cp, seed):\n",
    "        #self.rnd = random.Random(seed)\n",
    "        self.status = 0  # 0 = inactive, 1 = active, 2 = scout\n",
    "        self.path = [0 for i in range(nc)]  # potential solution\n",
    "        \n",
    "        for i in range(nc):\n",
    "            self.path[i] = i  # [0,1,2, ...]\n",
    "        \n",
    "        self.path = rand_path(self.path, nc)\n",
    "                \n",
    "        #print(\"sp\"+str(self.path))\n",
    "        random.shuffle(self.path[1:len(self.path)-1])\n",
    "        #print(str(seed) + \" \" + str(self.path))\n",
    "        self.error = error(self.path, cp) # bee's current error\n",
    "        #print(\"serr\"+str(self.error))"
   ]
  },
  {
   "cell_type": "code",
   "execution_count": 12,
   "metadata": {},
   "outputs": [],
   "source": [
    "def solve(nc, cp, nb, max_epochs):\n",
    "    # solve TSP for nc cities using nb bees\n",
    "    # optimal soln is [0,1,2, . . n-1]\n",
    "    # create nb random bees\n",
    "    \n",
    "    hive = [Bee(nc, cp, i) for i in range(nb)] \n",
    "\n",
    "    best_err = sys.float_info.max  # dummy init value\n",
    "    for i in range(nb):  # check each random bee\n",
    "        if hive[i].error < best_err:\n",
    "            best_err = hive[i].error\n",
    "            best_path = copy.copy(hive[i].path)\n",
    "\n",
    "    # assign initial statuses\n",
    "    numActive = int(nb * 0.50)\n",
    "    numScout = int(nb * 0.25)\n",
    "    numInactive = nb - (numActive + numScout)\n",
    "    for i in range(nb):\n",
    "        if i < numInactive:\n",
    "            hive[i].status = 0\n",
    "        elif i < numInactive + numScout:\n",
    "            hive[i].status = 2\n",
    "        else:\n",
    "            hive[i].status = 1\n",
    "            \n",
    "    epoch = 0\n",
    "    while epoch < max_epochs:\n",
    "        if best_err == 0.0: break\n",
    "        for i in range(nb):  # process each bee\n",
    "            if hive[i].status == 1:    # active bee\n",
    "                # find a neighbor path and associated error\n",
    "                neighbor_path = copy.copy(hive[i].path)\n",
    "                ri = random.randint(1, nc-2)  # random index\n",
    "                ai = 1  # adjacent index. assume last->first\n",
    "                if ri < nc-2: ai = ri + 1\n",
    "                tmp = neighbor_path[ri]\n",
    "                neighbor_path[ri] = neighbor_path[ai]\n",
    "                neighbor_path[ai] = tmp\n",
    "                neighbor_err = error(neighbor_path, cp)\n",
    "                \n",
    "                # check if neighbor path is better\n",
    "                p = random.random()  # [0.0 to 1.0)\n",
    "                if (neighbor_err < hive[i].error or (neighbor_err >= hive[i].error and p < 0.05)):\n",
    "                    hive[i].path = neighbor_path\n",
    "                    hive[i].error = neighbor_err\n",
    "                    #print(\"abee\"+str(hive[i].path))\n",
    "\n",
    "                # new best?\n",
    "                if hive[i].error < best_err:\n",
    "                    best_err = hive[i].error\n",
    "                    best_path = hive[i].path\n",
    "                    #print(\"epoch = \" + str(epoch) + \" new best path found \", end=\"\")\n",
    "                    #print(\"with error = \" + str(best_err))\n",
    "            \n",
    "            # active bee code\n",
    "            elif hive[i].status == 2:  # scout bee\n",
    "                # make random path and error\n",
    "                random_path = [0 for i in range(nc)]\n",
    "                for i in range(nc):\n",
    "                    random_path[i] = i  # [0,1,2, ...]\n",
    "               \n",
    "                random_path = rand_path(random_path, nc)\n",
    "                random_err = error(random_path, cp)\n",
    "                # is it better?\n",
    "                if random_err < hive[i].error:\n",
    "                    hive[i].path = random_path  # ref assignmnt\n",
    "                    hive[i].error = random_err\n",
    "                # new best?\n",
    "                if hive[i].error < best_err:\n",
    "                    best_err = hive[i].error\n",
    "                    best_path = hive[i].path\n",
    "                    #print(\"epoch = \" + str(epoch) + \" new best path found \", end=\"\")\n",
    "                    #print(\"with error = \" + str(best_err))\n",
    "\n",
    "            elif hive[i].status == 0:  # inactive\n",
    "                pass  # null statement\n",
    "\n",
    "        # for-each bee\n",
    "        epoch += 1\n",
    "    # while\n",
    "  \n",
    "    #print(\"\\nBest path found:\")\n",
    "    #print(best_path)\n",
    "    #new_position(best_path, cp)\n",
    "    n_pth = new_position(best_path, cp)\n",
    "    #print(pth)\n",
    "    return n_pth\n",
    "    #print(error(best_path, cp))\n",
    "    #print(\"\\nError of best path = \" + str(best_err))\n",
    "    #return error(best_path, cp)"
   ]
  },
  {
   "cell_type": "code",
   "execution_count": 14,
   "metadata": {},
   "outputs": [],
   "source": [
    "def show_graph(best_total_distance):\n",
    "#     for i in range(len(best_total_distance)):\n",
    "#         plt.figure(i)\n",
    "#         color = 'm--'\n",
    "#         if(i == 1): color = 'k--'\n",
    "#         elif(i ==2): color = 'c--'\n",
    "#         print_path(best_total_distance[i], color)\n",
    "        \n",
    "    for i in range(len(best_total_distance)):\n",
    "        plt.figure(len(best_total_distance)+1)\n",
    "        color = 'm--'\n",
    "        if(i == 1): color = 'k--'\n",
    "        elif(i ==2): color = 'c--'\n",
    "        print_path(best_total_distance[i], color)"
   ]
  },
  {
   "cell_type": "code",
   "execution_count": 15,
   "metadata": {},
   "outputs": [],
   "source": [
    "num_cities = 20\n",
    "num_bees = 50\n",
    "size = 3"
   ]
  },
  {
   "cell_type": "code",
   "execution_count": 16,
   "metadata": {},
   "outputs": [],
   "source": [
    "max_epochs = 1000"
   ]
  },
  {
   "cell_type": "code",
   "execution_count": 17,
   "metadata": {},
   "outputs": [],
   "source": [
    "env = []\n",
    "for i in range(5):\n",
    "    env.append(np.random.rand(20+2,2))\n",
    "env[0][0] = [0.5,0.5]  \n",
    "env[0][1] = [0.07690058, 0.63935252]\n",
    "env[0][2] = [0.61546189, 0.80365155]\n",
    "env[0][3] = [0.84247201, 0.81052426]\n",
    "env[0][4] = [0.35522798, 0.89829543]\n",
    "env[0][5] = [0.01426304, 0.95698899]\n",
    "env[0][6] = [0.92159681, 0.06048779]\n",
    "env[0][7] = [0.25179378, 0.21985931]\n",
    "env[0][8] = [0.34565902, 0.57045407]\n",
    "env[0][9] = [0.98594842, 0.03611988]\n",
    "env[0][10] = [0.48804409, 0.28195792]\n",
    "env[0][11] = [0.85474782, 0.3025206 ]\n",
    "env[0][12] = [0.59346739, 0.60630127]\n",
    "env[0][13] = [0.03989808, 0.69505267]\n",
    "env[0][14] = [0.06748413, 0.21995183]\n",
    "env[0][15] = [0.41535267, 0.62674173]\n",
    "env[0][16] = [0.74393668, 0.33945587]\n",
    "env[0][17] = [0.74039158, 0.61575954]\n",
    "env[0][18] = [0.14737193, 0.19344242]\n",
    "env[0][19] = [0.89482608, 0.42823879]\n",
    "env[0][20] = [0.53063128, 0.74161647]\n",
    "env[0][20] = [0.5,0.5]\n",
    "\n",
    "env[1][0] = [0.34922018, 0.86928191]\n",
    "env[1][1] = [0.54930753, 0.17323245]\n",
    "env[1][2] = [0.12965323, 0.66832635]\n",
    "env[1][3] = [0.66552128, 0.38442360]\n",
    "env[1][4] = [0.90801382, 0.99998736]\n",
    "env[1][5] = [0.84399447, 0.65173009]\n",
    "env[1][6] = [0.86472277, 0.89959235]\n",
    "env[1][7] = [0.69452760, 0.33163981]\n",
    "env[1][8] = [0.09685189, 0.57790650]\n",
    "env[1][9] = [0.15657803, 0.98780106]\n",
    "env[1][10] = [0.62859840, 0.28451087]\n",
    "env[1][11] = [0.29926868, 0.84140736]\n",
    "env[1][12] = [0.25375098, 0.38581740]\n",
    "env[1][13] = [0.62228415, 0.49871710]\n",
    "env[1][14] = [0.21884802, 0.78082145]\n",
    "env[1][15] = [0.02926973, 0.37119985]\n",
    "env[1][16] = [0.46987959, 0.71104563]\n",
    "env[1][17] = [0.13520079, 0.16351231]\n",
    "env[1][18] = [0.56902284, 0.57112580]\n",
    "env[1][19] = [0.86311127, 0.74052335]\n",
    "env[1][20] = [0.11395521, 0.20445428]\n",
    "env[1][21] = [0.54930753, 0.17323245]\n",
    "\n",
    "env[2][0] = [0.30889122, 0.15268016]\n",
    "env[2][1] = [0.86603561, 0.95304634]\n",
    "env[2][2] = [0.33945950, 0.51440030]\n",
    "env[2][3] = [0.68670310, 0.56147614]\n",
    "env[2][4] = [0.54948796, 0.17946882]\n",
    "env[2][5] = [0.57082568, 0.58258006]\n",
    "env[2][6] = [0.29840265, 0.64446567]\n",
    "env[2][7] = [0.92617501, 0.35873439]\n",
    "env[2][8] = [0.82275673, 0.11553393]\n",
    "env[2][9] = [0.14069381, 0.99662191]\n",
    "env[2][10] = [0.70286300, 0.88277949]\n",
    "env[2][11] = [0.57405253, 0.03246580]\n",
    "env[2][12] = [0.55573937, 0.20520880]\n",
    "env[2][13] = [0.31044032, 0.30913611]\n",
    "env[2][14] = [0.88657570, 0.62246699]\n",
    "env[2][15] = [0.86758903, 0.93064213]\n",
    "env[2][16] = [0.34028163, 0.14489345]\n",
    "env[2][17] = [0.91186460, 0.25250010]\n",
    "env[2][18] = [0.30766992, 0.70223782]\n",
    "env[2][19] = [0.15791795, 0.23200796]\n",
    "env[2][20] = [0.07470997, 0.85091218]\n",
    "env[2][21] = [0.30889122, 0.15268016]\n",
    "\n",
    "env[3][0] = [0.94488033, 0.48640294]\n",
    "env[3][1] = [0.46630041, 0.03199816]\n",
    "env[3][2] = [0.60179804, 0.01956694]\n",
    "env[3][3] = [0.53499192, 0.87153379]\n",
    "env[3][4] = [0.53861537, 0.59962586]\n",
    "env[3][5] = [0.60646905, 0.85846759]\n",
    "env[3][6] = [0.50598385, 0.40775693]\n",
    "env[3][7] = [0.98141429, 0.11731949]\n",
    "env[3][8] = [0.84264157, 0.89302460]\n",
    "env[3][9] = [0.16963787, 0.40055401]\n",
    "env[3][10] = [0.72057150, 0.73507166]\n",
    "env[3][11] = [0.92975615, 0.14811321]\n",
    "env[3][12] = [0.82195119, 0.69380582]\n",
    "env[3][13] = [0.44675742, 0.72114028]\n",
    "env[3][14] = [0.62909727, 0.92706589]\n",
    "env[3][15] = [0.13291872, 0.27488526]\n",
    "env[3][16] = [0.65533497, 0.82306444]\n",
    "env[3][17] = [0.88945725, 0.07866259]\n",
    "env[3][18] = [0.25226204, 0.47939801]\n",
    "env[3][19] = [0.00387767, 0.05687605]\n",
    "env[3][20] = [0.17630150, 0.71264876]\n",
    "env[3][21] = [0.94488033, 0.48640294]\n",
    "\n",
    "env[4][0] = [0.69911003, 0.48697096]\n",
    "env[4][1] = [0.57521879, 0.82909657]\n",
    "env[4][2] = [0.63642682, 0.35831569]\n",
    "env[4][3] = [0.84414721, 0.03212308]\n",
    "env[4][4] = [0.46372188, 0.08467713]\n",
    "env[4][5] = [0.67343455, 0.57410040]\n",
    "env[4][6] = [0.63956391, 0.82604860]\n",
    "env[4][7] = [0.77905483, 0.51912140]\n",
    "env[4][8] = [0.17096540, 0.44733066]\n",
    "env[4][9] = [0.76369255, 0.12297512]\n",
    "env[4][10] = [0.49482687, 0.91963574]\n",
    "env[4][11] = [0.19172358, 0.39969843]\n",
    "env[4][12] = [0.70719173, 0.72161297]\n",
    "env[4][13] = [0.32468534, 0.93397095]\n",
    "env[4][14] = [0.53995583, 0.87325847]\n",
    "env[4][15] = [0.77530987, 0.57452352]\n",
    "env[4][16] = [0.98709477, 0.13069307]\n",
    "env[4][17] = [0.36655024, 0.33122815]\n",
    "env[4][18] = [0.66722143, 0.71244668]\n",
    "env[4][19] = [0.75463233, 0.50898135]\n",
    "env[4][20] = [0.57218765, 0.39069684]\n",
    "env[4][21] = [0.69911003, 0.48697096]\n"
   ]
  },
  {
   "cell_type": "markdown",
   "metadata": {},
   "source": [
    "# Map=1"
   ]
  },
  {
   "cell_type": "code",
   "execution_count": 18,
   "metadata": {
    "scrolled": true
   },
   "outputs": [
    {
     "name": "stdout",
     "output_type": "stream",
     "text": [
      "Wall time: 11min 2s\n"
     ]
    }
   ],
   "source": [
    "%%time\n",
    "j = range(20)\n",
    "n_cores = multiprocessing.cpu_count()\n",
    "results_0 = []\n",
    "results_0.append(Parallel(n_jobs=n_cores)(delayed(multi_bee)(num_cities, env[0], num_bees, size, max_epochs,i) for i in j))"
   ]
  },
  {
   "cell_type": "code",
   "execution_count": 19,
   "metadata": {},
   "outputs": [
    {
     "data": {
      "text/plain": [
       "[<matplotlib.lines.Line2D at 0x207fce32668>]"
      ]
     },
     "execution_count": 19,
     "metadata": {},
     "output_type": "execute_result"
    },
    {
     "data": {
      "image/png": "[encoded data removed]",
      "text/plain": [
       "<Figure size 432x288 with 1 Axes>"
      ]
     },
     "metadata": {},
     "output_type": "display_data"
    }
   ],
   "source": [
    "plt.plot(env[0][:,0],env[0][:,1],'bo')\n",
    "plt.plot(env[0][0,0],env[0][0,1],'ro')"
   ]
  },
  {
   "cell_type": "code",
   "execution_count": 38,
   "metadata": {},
   "outputs": [
    {
     "name": "stdout",
     "output_type": "stream",
     "text": [
      "0 15.120319890905549\n"
     ]
    },
    {
     "data": {
      "text/plain": [
       "15.120319890905549"
      ]
     },
     "execution_count": 38,
     "metadata": {},
     "output_type": "execute_result"
    },
    {
     "data": {
      "image/png": "[encoded data removed]",
      "text/plain": [
       "<Figure size 432x288 with 1 Axes>"
      ]
     },
     "metadata": {},
     "output_type": "display_data"
    }
   ],
   "source": [
    "m , n = 1000 ,0\n",
    "for i in range(20):\n",
    "    if m > results_0[0][i][1]:\n",
    "        m, n = i , results_0[0][i][1]\n",
    "        print(m ,n)\n",
    "show_graph(results_0[0][m][2])\n",
    "results_0[0][m][1]"
   ]
  },
  {
   "cell_type": "markdown",
   "metadata": {},
   "source": [
    "# Map=2"
   ]
  },
  {
   "cell_type": "code",
   "execution_count": 21,
   "metadata": {},
   "outputs": [
    {
     "name": "stdout",
     "output_type": "stream",
     "text": [
      "Wall time: 11min 7s\n"
     ]
    }
   ],
   "source": [
    "%%time\n",
    "j = range(20)\n",
    "n_cores = multiprocessing.cpu_count()\n",
    "results_1 = []\n",
    "results_1.append(Parallel(n_jobs=n_cores)(delayed(multi_bee)(num_cities, env[1], num_bees, size, max_epochs,i) for i in j))"
   ]
  },
  {
   "cell_type": "code",
   "execution_count": 22,
   "metadata": {},
   "outputs": [
    {
     "data": {
      "text/plain": [
       "[<matplotlib.lines.Line2D at 0x207fd360358>]"
      ]
     },
     "execution_count": 22,
     "metadata": {},
     "output_type": "execute_result"
    },
    {
     "data": {
      "image/png": "[encoded data removed]",
      "text/plain": [
       "<Figure size 432x288 with 1 Axes>"
      ]
     },
     "metadata": {},
     "output_type": "display_data"
    }
   ],
   "source": [
    "plt.plot(env[1][:,0],env[1][:,1],'bo')\n",
    "plt.plot(env[1][0,0],env[1][0,1],'ro')"
   ]
  },
  {
   "cell_type": "code",
   "execution_count": 24,
   "metadata": {},
   "outputs": [
    {
     "name": "stdout",
     "output_type": "stream",
     "text": [
      "0 16.721491890578974\n"
     ]
    },
    {
     "data": {
      "text/plain": [
       "16.721491890578974"
      ]
     },
     "execution_count": 24,
     "metadata": {},
     "output_type": "execute_result"
    },
    {
     "data": {
      "image/png": "[encoded data removed]",
      "text/plain": [
       "<Figure size 432x288 with 1 Axes>"
      ]
     },
     "metadata": {},
     "output_type": "display_data"
    }
   ],
   "source": [
    "m , n = 1000 ,0\n",
    "for i in range(20):\n",
    "    if m > results_1[0][i][1]:\n",
    "        m, n = i , results_1[0][i][1]\n",
    "        print(m ,n)\n",
    "show_graph(results_1[0][m][2])\n",
    "results_1[0][m][1]"
   ]
  },
  {
   "cell_type": "markdown",
   "metadata": {},
   "source": [
    "# Map=3"
   ]
  },
  {
   "cell_type": "code",
   "execution_count": 35,
   "metadata": {},
   "outputs": [
    {
     "name": "stdout",
     "output_type": "stream",
     "text": [
      "Wall time: 11min 32s\n"
     ]
    }
   ],
   "source": [
    "%%time\n",
    "j = range(20)\n",
    "results_2 = []\n",
    "results_2.append(Parallel(n_jobs=-1)(delayed(multi_bee)(num_cities, env[2], num_bees, size, max_epochs,i) for i in j))"
   ]
  },
  {
   "cell_type": "code",
   "execution_count": 36,
   "metadata": {},
   "outputs": [
    {
     "data": {
      "text/plain": [
       "[<matplotlib.lines.Line2D at 0x207fd4b92e8>]"
      ]
     },
     "execution_count": 36,
     "metadata": {},
     "output_type": "execute_result"
    },
    {
     "data": {
      "image/png": "[encoded data removed]",
      "text/plain": [
       "<Figure size 432x288 with 1 Axes>"
      ]
     },
     "metadata": {},
     "output_type": "display_data"
    }
   ],
   "source": [
    "plt.plot(env[2][:,0],env[2][:,1],'bo')\n",
    "plt.plot(env[2][0,0],env[2][0,1],'ro')"
   ]
  },
  {
   "cell_type": "code",
   "execution_count": 37,
   "metadata": {},
   "outputs": [
    {
     "name": "stdout",
     "output_type": "stream",
     "text": [
      "0 26.619717465632895\n"
     ]
    },
    {
     "data": {
      "text/plain": [
       "26.619717465632895"
      ]
     },
     "execution_count": 37,
     "metadata": {},
     "output_type": "execute_result"
    },
    {
     "data": {
      "image/png": "[encoded data removed]",
      "text/plain": [
       "<Figure size 432x288 with 1 Axes>"
      ]
     },
     "metadata": {},
     "output_type": "display_data"
    }
   ],
   "source": [
    "m , n = 1000 ,0\n",
    "for i in range(20):\n",
    "    if m > results_2[0][i][1]:\n",
    "        m, n = i , results_2[0][i][1]\n",
    "        print(m ,n)\n",
    "show_graph(results_2[0][m][2])\n",
    "results_2[0][m][1]"
   ]
  },
  {
   "cell_type": "markdown",
   "metadata": {},
   "source": [
    "# Map=4"
   ]
  },
  {
   "cell_type": "code",
   "execution_count": 28,
   "metadata": {},
   "outputs": [
    {
     "name": "stdout",
     "output_type": "stream",
     "text": [
      "Wall time: 12min 17s\n"
     ]
    }
   ],
   "source": [
    "%%time\n",
    "j = range(20)\n",
    "results_3 = []\n",
    "results_3.append(Parallel(n_jobs=-1)(delayed(multi_bee)(num_cities, env[3], num_bees, size, max_epochs,i) for i in j))"
   ]
  },
  {
   "cell_type": "code",
   "execution_count": 29,
   "metadata": {},
   "outputs": [
    {
     "data": {
      "text/plain": [
       "[<matplotlib.lines.Line2D at 0x207fd370748>]"
      ]
     },
     "execution_count": 29,
     "metadata": {},
     "output_type": "execute_result"
    },
    {
     "data": {
      "image/png": "[encoded data removed]",
      "text/plain": [
       "<Figure size 432x288 with 1 Axes>"
      ]
     },
     "metadata": {},
     "output_type": "display_data"
    }
   ],
   "source": [
    "plt.plot(env[3][:,0],env[3][:,1],'bo')\n",
    "plt.plot(env[3][0,0],env[3][0,1],'ro')"
   ]
  },
  {
   "cell_type": "code",
   "execution_count": 31,
   "metadata": {},
   "outputs": [
    {
     "name": "stdout",
     "output_type": "stream",
     "text": [
      "0 26.127892517656115\n"
     ]
    },
    {
     "data": {
      "text/plain": [
       "26.127892517656115"
      ]
     },
     "execution_count": 31,
     "metadata": {},
     "output_type": "execute_result"
    },
    {
     "data": {
      "image/png": "[encoded data removed]",
      "text/plain": [
       "<Figure size 432x288 with 1 Axes>"
      ]
     },
     "metadata": {},
     "output_type": "display_data"
    }
   ],
   "source": [
    "m , n = 1000 ,0\n",
    "for i in range(20):\n",
    "    if m > results_3[0][i][1]:\n",
    "        m, n = i , results_3[0][i][1]\n",
    "        print(m ,n)\n",
    "show_graph(results_3[0][m][2])\n",
    "results_3[0][m][1]"
   ]
  },
  {
   "cell_type": "markdown",
   "metadata": {},
   "source": [
    "# Map=5"
   ]
  },
  {
   "cell_type": "code",
   "execution_count": 32,
   "metadata": {},
   "outputs": [
    {
     "name": "stdout",
     "output_type": "stream",
     "text": [
      "Wall time: 11min 40s\n"
     ]
    }
   ],
   "source": [
    "%%time\n",
    "j = range(20)\n",
    "results_4 = []\n",
    "results_4.append(Parallel(n_jobs=-1)(delayed(multi_bee)(num_cities, env[4], num_bees, size, max_epochs,i) for i in j))"
   ]
  },
  {
   "cell_type": "code",
   "execution_count": 33,
   "metadata": {},
   "outputs": [
    {
     "data": {
      "text/plain": [
       "[<matplotlib.lines.Line2D at 0x207fd5bf630>]"
      ]
     },
     "execution_count": 33,
     "metadata": {},
     "output_type": "execute_result"
    },
    {
     "data": {
      "image/png": "[encoded data removed]",
      "text/plain": [
       "<Figure size 432x288 with 1 Axes>"
      ]
     },
     "metadata": {},
     "output_type": "display_data"
    }
   ],
   "source": [
    "plt.plot(env[4][:,0],env[4][:,1],'bo')\n",
    "plt.plot(env[4][0,0],env[4][0,1],'ro')"
   ]
  },
  {
   "cell_type": "code",
   "execution_count": 34,
   "metadata": {},
   "outputs": [
    {
     "name": "stdout",
     "output_type": "stream",
     "text": [
      "0 7.352277592454624\n"
     ]
    },
    {
     "data": {
      "text/plain": [
       "7.352277592454624"
      ]
     },
     "execution_count": 34,
     "metadata": {},
     "output_type": "execute_result"
    },
    {
     "data": {
      "image/png": "[encoded data removed]",
      "text/plain": [
       "<Figure size 432x288 with 1 Axes>"
      ]
     },
     "metadata": {},
     "output_type": "display_data"
    }
   ],
   "source": [
    "m , n = 1000 ,0\n",
    "for i in range(20):\n",
    "    if m > results_4[0][i][1]:\n",
    "        m, n = i , results_4[0][i][1]\n",
    "        print(m ,n)\n",
    "show_graph(results_4[0][m][2])\n",
    "results_4[0][m][1]"
   ]
  },
  {
   "cell_type": "code",
   "execution_count": null,
   "metadata": {},
   "outputs": [],
   "source": []
  }
 ],
 "metadata": {
  "kernelspec": {
   "display_name": "Python 3",
   "language": "python",
   "name": "python3"
  },
  "language_info": {
   "codemirror_mode": {
    "name": "ipython",
    "version": 3
   },
   "file_extension": ".py",
   "mimetype": "text/x-python",
   "name": "python",
   "nbconvert_exporter": "python",
   "pygments_lexer": "ipython3",
   "version": "3.6.5"
  }
 },
 "nbformat": 4,
 "nbformat_minor": 2
}
